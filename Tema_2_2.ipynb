{
 "cells": [
  {
   "cell_type": "code",
   "execution_count": 1,
   "metadata": {},
   "outputs": [],
   "source": [
    "import sympy\n",
    "from sympy import symbols, diff\n",
    "import numpy as np\n",
    "import pandas as pd\n",
    "from scipy.linalg import solve\n",
    "from sympy.solvers.solveset import linsolve\n",
    "import matplotlib.pyplot as plt\n",
    "from mpl_toolkits.mplot3d import Axes3D\n",
    "import seaborn as sns\n",
    "import numpy.linalg as ln\n",
    "import scipy as sp\n",
    "import scipy.optimize\n",
    "from math import *\n",
    "from sympy import *\n",
    "from copy import deepcopy\n",
    "from scipy.optimize import brentq"
   ]
  },
  {
   "attachments": {
    "image.png": {
     "image/png": "[encoded data removed]"
    }
   },
   "cell_type": "markdown",
   "metadata": {},
   "source": [
    "![image.png](attachment:image.png)"
   ]
  },
  {
   "cell_type": "code",
   "execution_count": 2,
   "metadata": {},
   "outputs": [
    {
     "name": "stdout",
     "output_type": "stream",
     "text": [
      "Введите функцию f(x)=: x**2 - 40*x + 5000\n",
      "Границы области оптимизации: 0 30\n",
      "Указать необязательные параметры? 1-да/0-нет: 1\n",
      "Точность оптимизации по аргументу: 0.00001\n",
      "Максимальное число итераций: 500\n",
      "Вывод промежуточных результатов? 1-да/0-нет: 0\n",
      "Запись промежуточных результатов? 1-да/0-нет: 1\n"
     ]
    }
   ],
   "source": [
    "func = input('Введите функцию f(x)=: ')\n",
    "limit = input('Границы области оптимизации: ').split()\n",
    "par = int(input('Указать необязательные параметры? 1-да/0-нет: '))\n",
    "if par:\n",
    "    accuracy = float(input('Точность оптимизации по аргументу: '))\n",
    "    iteration = int(input('Максимальное число итераций: '))\n",
    "    inter_res = int(input('Вывод промежуточных результатов? 1-да/0-нет: '))\n",
    "    wr_inter_res = int(input('Запись промежуточных результатов? 1-да/0-нет: '))\n",
    "\n",
    "\n",
    "if not par:\n",
    "    accuracy = 0.00001\n",
    "    iteration = 500\n",
    "    inter_res = 0\n",
    "    wr_inter_res = 0"
   ]
  },
  {
   "cell_type": "code",
   "execution_count": 3,
   "metadata": {},
   "outputs": [
    {
     "name": "stdout",
     "output_type": "stream",
     "text": [
      "Координата точки экстремума: 19.99999970046681\n",
      "Значение функции в точке экстремума: 4600.00000000000\n",
      "Вывести запись промежуточных итераций? 1-да/0-нет 1\n",
      "         xopt              yopt\n",
      "0   18.541020  4602.12862362522\n",
      "1   18.541020  4602.12862362522\n",
      "2   20.212862  4600.04531038538\n",
      "3   20.212862  4600.04531038538\n",
      "4   20.212862  4600.04531038538\n",
      "5   20.212862  4600.04531038538\n",
      "6   19.968944  4600.00096448757\n",
      "7   19.968944  4600.00096448757\n",
      "8   19.968944  4600.00096448757\n",
      "9   19.968944  4600.00096448757\n",
      "10  20.004531  4600.00002053031\n",
      "11  20.004531  4600.00002053031\n",
      "12  20.004531  4600.00002053031\n",
      "13  20.004531  4600.00002053031\n",
      "14  19.999339  4600.00000043701\n",
      "15  19.999339  4600.00000043701\n",
      "16  19.999339  4600.00000043701\n",
      "17  19.999339  4600.00000043701\n",
      "18  20.000096  4600.00000000930\n",
      "19  20.000096  4600.00000000930\n",
      "20  20.000096  4600.00000000930\n",
      "21  20.000096  4600.00000000930\n",
      "22  19.999986  4600.00000000020\n",
      "23  19.999986  4600.00000000020\n",
      "24  19.999986  4600.00000000020\n",
      "25  19.999986  4600.00000000020\n",
      "26  20.000002  4600.00000000000\n",
      "27  20.000002  4600.00000000000\n",
      "28  20.000002  4600.00000000000\n",
      "29  20.000002  4600.00000000000\n",
      "30  20.000000  4600.00000000000\n",
      "31  20.000000  4600.00000000000\n",
      "32  20.000000  4600.00000000000\n"
     ]
    }
   ],
   "source": [
    "x = symbols('x')\n",
    "func = sympy.sympify(func)\n",
    "\n",
    "Xl = float(limit[0]); Xu = float(limit[1])\n",
    "\n",
    "df = pd.DataFrame()\n",
    "m_xopt = []\n",
    "m_yopt = []\n",
    "\n",
    "ea = 100\n",
    "i = 1\n",
    "it = 0\n",
    "R = (5 ** 0.5 - 1) / 2\n",
    "D = R * (Xu - Xl)\n",
    "x1 = Xl + D\n",
    "x2 = Xu - D\n",
    "f1 = func.subs(x, x1)\n",
    "f2 = func.subs(x, x2)\n",
    "if inter_res:\n",
    "    print (' x       ea         xopt       yopt')\n",
    "\n",
    "#Golden-Section Search Method\n",
    "while ea >= accuracy and it < iteration:\n",
    "    if f1 < f2:\n",
    "        Xl = x2\n",
    "        x2 = x1\n",
    "        f2 = f1\n",
    "        x1 = Xl + R*(Xu - Xl)\n",
    "        f1 = func.subs(x, x1)\n",
    "    else:\n",
    "        Xu = x1\n",
    "        x1 = x2\n",
    "        f1 = f2\n",
    "        x2 = Xu - R*(Xu - Xl)\n",
    "        f2 = func.subs(x, x2)\n",
    "\n",
    "    if f1 < f2:\n",
    "        xopt = x1\n",
    "        yopt = func.subs(x, xopt)\n",
    "    else:\n",
    "        xopt = x2\n",
    "        yopt = func.subs(x, xopt)\n",
    "\n",
    "\n",
    "    ea = (1 - R) * abs((Xu - Xl) / xopt) * 100\n",
    "    m_xopt.append(xopt)\n",
    "    m_yopt.append(yopt)\n",
    "    if inter_res:\n",
    "        print (f\"{i:>2}   {ea:>8.5f}   {xopt:>10.7f}   {yopt:>10.7f}\")\n",
    "    i += 1\n",
    "    it += 1\n",
    "\n",
    "df['xopt'] = m_xopt\n",
    "df['yopt'] = m_yopt\n",
    "\n",
    "\n",
    "print(f'Координата точки экстремума: {xopt}')\n",
    "print(f'Значение функции в точке экстремума: {yopt}')\n",
    "if ea == accuracy:\n",
    "    print(f'Найдено значение с указанной точностью: {accuracy}')\n",
    "if it == iteration:\n",
    "    print('Достигнуто максимальное кол-во итераций')\n",
    "if wr_inter_res:\n",
    "    rrr = int(input('Вывести запись промежуточных итераций? 1-да/0-нет '))\n",
    "    if rrr:\n",
    "        print(df)"
   ]
  },
  {
   "attachments": {
    "image.png": {
     "image/png": "[encoded data removed]"
    }
   },
   "cell_type": "markdown",
   "metadata": {},
   "source": [
    "![image.png](attachment:image.png)"
   ]
  },
  {
   "cell_type": "code",
   "execution_count": 4,
   "metadata": {},
   "outputs": [
    {
     "name": "stdout",
     "output_type": "stream",
     "text": [
      "Введите функцию f(x)=: x**2 - 40*x + 5000\n",
      "Границы области оптимизации: 0 30\n",
      "Указать необязательные параметры? 1-да/0-нет: 1\n",
      "Точность оптимизации по аргументу: 0.00001\n",
      "Максимальное число итераций: 500\n",
      "Вывод промежуточных результатов? 1-да/0-нет: 0\n",
      "Запись промежуточных результатов? 1-да/0-нет: 0\n"
     ]
    }
   ],
   "source": [
    "func = input('Введите функцию f(x)=: ')\n",
    "limit = input('Границы области оптимизации: ').split()\n",
    "par = int(input('Указать необязательные параметры? 1-да/0-нет: '))\n",
    "if par:\n",
    "    accuracy = float(input('Точность оптимизации по аргументу: '))\n",
    "    iteration = int(input('Максимальное число итераций: '))\n",
    "    inter_res = int(input('Вывод промежуточных результатов? 1-да/0-нет: '))\n",
    "    wr_inter_res = int(input('Запись промежуточных результатов? 1-да/0-нет: '))\n",
    "\n",
    "\n",
    "if not par:\n",
    "    accuracy = 0.00001\n",
    "    iteration = 500\n",
    "    inter_res = 0\n",
    "    wr_inter_res = 0"
   ]
  },
  {
   "cell_type": "code",
   "execution_count": 5,
   "metadata": {},
   "outputs": [],
   "source": [
    "def parabola():\n",
    "    x = symbols('x')\n",
    "    F = eval(func)\n",
    "    \n",
    "    a = float(limit[0])\n",
    "    b = float(limit[1])\n",
    "        \n",
    "    it = 0\n",
    "    ea = 100\n",
    "    while (ea > accuracy) or (it < iteration):\n",
    "        if it == 0:\n",
    "            x1 = a\n",
    "            x3 = b\n",
    "            x2 = (x1+x3)/2\n",
    "\n",
    "        f1 = F.subs(x, x1)\n",
    "        f2 = F.subs(x, x2)\n",
    "        f3 = F.subs(x, x3)\n",
    "        \n",
    "        a0 = float(deepcopy(f1))\n",
    "        a1 = float((f2-f1)/(x2-x1))\n",
    "        a2 = float(1/(x3-x2) * ((f3-f1)/(x3-x1) - (f2-f1)/(x2-x1)))\n",
    "        \n",
    "        if it > 0:\n",
    "            x_old = deepcopy(x_)\n",
    "            \n",
    "        x_ = 1/2*(x1+ x2 - a1/a2)\n",
    "        \n",
    "        if it > 0:\n",
    "            ea = abs(x_old - x_)\n",
    "        \n",
    "            if ea <= accuracy:\n",
    "                x_res = deepcopy(x_)\n",
    "\n",
    "        f_x_ = F.subs(x, x_)\n",
    "\n",
    "        if x1 < x_ < x2 < x3 and f_x_ >= f2:\n",
    "            x1 = deepcopy(x_)\n",
    "            f1 = deepcopy(f_x_)\n",
    "        elif x1 < x2 < x_ < x3 and f2 >= f_x_:\n",
    "            x1 = deepcopy(x2)\n",
    "            f1 = deepcopy(f2)\n",
    "            x2 = deepcopy(x_)\n",
    "            f2 = deepcopy(f_x_)\n",
    "\n",
    "        it += 1\n",
    "\n",
    "    f_res = F.subs(x, x_res)\n",
    "\n",
    "    return x_res\n"
   ]
  },
  {
   "cell_type": "code",
   "execution_count": 6,
   "metadata": {},
   "outputs": [
    {
     "name": "stdout",
     "output_type": "stream",
     "text": [
      "20.0 4600.00000000000\n"
     ]
    }
   ],
   "source": [
    "print(parabola(),eval(func).subs(x, parabola()))"
   ]
  },
  {
   "attachments": {
    "image.png": {
     "image/png": "[encoded data removed]"
    }
   },
   "cell_type": "markdown",
   "metadata": {},
   "source": [
    "![image.png](attachment:image.png)"
   ]
  },
  {
   "cell_type": "code",
   "execution_count": 10,
   "metadata": {},
   "outputs": [
    {
     "name": "stdout",
     "output_type": "stream",
     "text": [
      "Введите функцию f(x)=: x**2 - 40*x + 5000\n",
      "Границы области оптимизации: 0 30\n",
      "Указать необязательные параметры? 1-да/0-нет: 0\n"
     ]
    }
   ],
   "source": [
    "func = input('Введите функцию f(x)=: ')\n",
    "limit = input('Границы области оптимизации: ').split()\n",
    "par = int(input('Указать необязательные параметры? 1-да/0-нет: '))\n",
    "if par:\n",
    "    accuracy = float(input('Точность оптимизации по аргументу: '))\n",
    "    iteration = int(input('Максимальное число итераций: '))\n",
    "    inter_res = int(input('Вывод промежуточных результатов? 1-да/0-нет: '))\n",
    "    wr_inter_res = int(input('Запись промежуточных результатов? 1-да/0-нет: '))\n",
    "\n",
    "\n",
    "if not par:\n",
    "    accuracy = 0.00001\n",
    "    iteration = 500\n",
    "    inter_res = 0\n",
    "    wr_inter_res = 0"
   ]
  },
  {
   "cell_type": "code",
   "execution_count": 11,
   "metadata": {},
   "outputs": [],
   "source": [
    "def BrantMethod():\n",
    "    \n",
    "    x = symbols('x')\n",
    "    F = eval(func)\n",
    "    \n",
    "    aa = float(limit[0])\n",
    "    bb = float(limit[1])\n",
    "    \n",
    "    r = (3-5**(1/2))/2\n",
    "    \n",
    "    x1 = aa + r*(bb - aa)\n",
    "    w = aa + r*(bb - aa)\n",
    "    v = aa + r*(bb - aa)\n",
    " \n",
    "    f_x = F.subs(x, x1)\n",
    "    f_w = F.subs(x, w)\n",
    "    f_v = F.subs(x, v)\n",
    "    \n",
    "    d_cur = bb - aa\n",
    "    d_prv = bb - aa\n",
    "    \n",
    "    step = 0\n",
    "    while step <= iteration:\n",
    "        if max(abs(x1 - aa), abs(bb -x1)) < accuracy:\n",
    "            return x, F.subs(x, x1)\n",
    "        g = d_prv /2\n",
    "        d_prv = deepcopy(d_cur)\n",
    "\n",
    "        u = parabola()\n",
    "        if u is None or not(aa <= u <= bb) or abs(u-x1) > g:\n",
    "            if x1 < (aa+bb)/2:\n",
    "                u = x1 + r*(bb-x1)\n",
    "                d_prv = bb - x1\n",
    "            else:\n",
    "                u = x1 - r*(x1 - aa)\n",
    "                d_prv = x1 - aa\n",
    "        d_cur = abs(u - x1)\n",
    "        if F.subs(x, u) > f_x:\n",
    "            if u < x1:\n",
    "                aa = deepcopy(u)\n",
    "            else:\n",
    "                bb = deepcopy(u)\n",
    "            if F.subs(x, u) <= f_w or w == x1:\n",
    "                v = deepcopy(w)\n",
    "                w = deepcopy(u)\n",
    "            else:\n",
    "                if F.subs(x, u) <= f_v or v == x1 or v == w:\n",
    "                    v = deepcopy(u)\n",
    "        else:\n",
    "            if u < x1:\n",
    "                bb = deepcopy(x1)\n",
    "            else:\n",
    "                aa = deepcopy(x1)\n",
    "            v = deepcopy(w)\n",
    "            w = deepcopy(x1)\n",
    "            x1 = deepcopy(u)\n",
    "    \n",
    "    return x1"
   ]
  },
  {
   "cell_type": "code",
   "execution_count": null,
   "metadata": {},
   "outputs": [],
   "source": [
    "BrantMethod()"
   ]
  },
  {
   "attachments": {
    "image.png": {
     "image/png": "[encoded data removed]"
    }
   },
   "cell_type": "markdown",
   "metadata": {},
   "source": [
    "![image.png](attachment:image.png)"
   ]
  },
  {
   "cell_type": "code",
   "execution_count": null,
   "metadata": {},
   "outputs": [],
   "source": [
    "### Незаконченный алгоритм, который работатет только при обозначении функции в коде"
   ]
  },
  {
   "cell_type": "code",
   "execution_count": 49,
   "metadata": {},
   "outputs": [
    {
     "name": "stdout",
     "output_type": "stream",
     "text": [
      "Введите функцию f(x, y)=: x**2 - x*y + y**2 + 9*x -6*y + 20\n",
      "Начальная точка: 0 0\n",
      "Указать необязательные параметры? 1-да/0-нет: 0\n"
     ]
    }
   ],
   "source": [
    "func = input('Введите функцию f(x, y)=: ')\n",
    "limit = input('Начальная точка: ').split()\n",
    "par = int(input('Указать необязательные параметры? 1-да/0-нет: '))\n",
    "if par:\n",
    "    v1 = float(input('Параметр для первого условия Вольфе: '))\n",
    "    v2 = float(input('Параметр для второго условия Вольфе: '))\n",
    "    max_x = float(input('Максимально возможное значение аргумента функции: '))\n",
    "    exit = float(input('Порог выхода по длине интервала поиска: '))\n",
    "    iteration = int(input('Максимальное число итераций: '))\n",
    "    inter_res = int(input('Вывод промежуточных результатов? 1-да/0-нет: '))\n",
    "    wr_inter_res = int(input('Запись промежуточных результатов? 1-да/0-нет: '))\n",
    "\n",
    "\n",
    "if not par:\n",
    "    v1 = 0.0001\n",
    "    v2 = 0.1\n",
    "    max_x = 100\n",
    "    exit = 0.00000001\n",
    "    iteration = 500\n",
    "    inter_res = 0\n",
    "    wr_inter_res = 0"
   ]
  },
  {
   "cell_type": "code",
   "execution_count": 329,
   "metadata": {},
   "outputs": [
    {
     "name": "stdout",
     "output_type": "stream",
     "text": [
      "Final Result: [-4.  1.]\n",
      "Iteration Count: 3\n"
     ]
    }
   ],
   "source": [
    "import numpy as np\n",
    "import numpy.linalg as ln\n",
    "import scipy as sp\n",
    "import scipy.optimize\n",
    "\n",
    "\n",
    "# Objective function\n",
    "def f(x):\n",
    "    return x[0]**2 - x[0]*x[1] + x[1]**2 + 9*x[0] - 6*x[1] + 20\n",
    "\n",
    "\n",
    "# Derivative\n",
    "def f1(x):\n",
    "    return np.array([2 * x[0] - x[1] + 9, -x[0] + 2*x[1] - 6])\n",
    "\n",
    "\n",
    "def bfgs_method(f, fprime, x0, maxiter=None, epsi=10e-3):\n",
    "    \n",
    "    if maxiter is None:\n",
    "        maxiter = len(x0) * 200\n",
    "\n",
    "    k = 0\n",
    "    gfk = fprime(x0)\n",
    "    N = len(x0)\n",
    "    # Set the Identity matrix I.\n",
    "    I = np.eye(N, dtype=int)\n",
    "    Hk = I\n",
    "    xk = x0\n",
    "   \n",
    "    while ln.norm(gfk) > epsi and k < maxiter: \n",
    "        \n",
    "        pk = -np.dot(Hk, gfk)\n",
    "\n",
    "        line_search = sp.optimize.line_search(f, f1, xk, pk)\n",
    "        alpha_k = line_search[0]\n",
    "        \n",
    "        xkp1 = xk + alpha_k * pk\n",
    "        sk = xkp1 - xk\n",
    "        xk = xkp1\n",
    "        \n",
    "        gfkp1 = fprime(xkp1)\n",
    "        yk = gfkp1 - gfk\n",
    "        gfk = gfkp1\n",
    "        \n",
    "        k += 1\n",
    "        \n",
    "        ro = 1.0 / (np.dot(yk, sk))\n",
    "        A1 = I - ro * sk[:, np.newaxis] * yk[np.newaxis, :]\n",
    "        A2 = I - ro * yk[:, np.newaxis] * sk[np.newaxis, :]\n",
    "        Hk = np.dot(A1, np.dot(Hk, A2)) + (ro * sk[:, np.newaxis] *\n",
    "                                                 sk[np.newaxis, :])\n",
    "        \n",
    "    return (xk, k)\n",
    "\n",
    "\n",
    "result, k = bfgs_method(f, f1, np.array([1, 1]))\n",
    "\n",
    "print('Final Result: %s' % (result))\n",
    "print('Iteration Count: %s' % (k))"
   ]
  },
  {
   "cell_type": "code",
   "execution_count": null,
   "metadata": {},
   "outputs": [],
   "source": []
  },
  {
   "cell_type": "code",
   "execution_count": null,
   "metadata": {},
   "outputs": [],
   "source": []
  },
  {
   "cell_type": "code",
   "execution_count": null,
   "metadata": {},
   "outputs": [],
   "source": []
  },
  {
   "cell_type": "code",
   "execution_count": null,
   "metadata": {},
   "outputs": [],
   "source": []
  },
  {
   "cell_type": "code",
   "execution_count": null,
   "metadata": {},
   "outputs": [],
   "source": []
  },
  {
   "cell_type": "code",
   "execution_count": null,
   "metadata": {},
   "outputs": [],
   "source": []
  },
  {
   "cell_type": "code",
   "execution_count": null,
   "metadata": {},
   "outputs": [],
   "source": []
  },
  {
   "cell_type": "code",
   "execution_count": null,
   "metadata": {},
   "outputs": [],
   "source": []
  },
  {
   "cell_type": "code",
   "execution_count": null,
   "metadata": {},
   "outputs": [],
   "source": []
  },
  {
   "cell_type": "code",
   "execution_count": null,
   "metadata": {},
   "outputs": [],
   "source": []
  },
  {
   "cell_type": "code",
   "execution_count": null,
   "metadata": {},
   "outputs": [],
   "source": []
  },
  {
   "cell_type": "code",
   "execution_count": null,
   "metadata": {},
   "outputs": [],
   "source": []
  },
  {
   "cell_type": "code",
   "execution_count": null,
   "metadata": {},
   "outputs": [],
   "source": []
  },
  {
   "cell_type": "code",
   "execution_count": null,
   "metadata": {},
   "outputs": [],
   "source": []
  },
  {
   "cell_type": "code",
   "execution_count": null,
   "metadata": {},
   "outputs": [],
   "source": []
  },
  {
   "cell_type": "code",
   "execution_count": null,
   "metadata": {},
   "outputs": [],
   "source": []
  },
  {
   "cell_type": "code",
   "execution_count": null,
   "metadata": {},
   "outputs": [],
   "source": []
  },
  {
   "cell_type": "code",
   "execution_count": null,
   "metadata": {},
   "outputs": [],
   "source": []
  },
  {
   "cell_type": "code",
   "execution_count": null,
   "metadata": {},
   "outputs": [],
   "source": []
  },
  {
   "cell_type": "code",
   "execution_count": null,
   "metadata": {},
   "outputs": [],
   "source": []
  }
 ],
 "metadata": {
  "kernelspec": {
   "display_name": "Python 3",
   "language": "python",
   "name": "python3"
  },
  "language_info": {
   "codemirror_mode": {
    "name": "ipython",
    "version": 3
   },
   "file_extension": ".py",
   "mimetype": "text/x-python",
   "name": "python",
   "nbconvert_exporter": "python",
   "pygments_lexer": "ipython3",
   "version": "3.8.5"
  }
 },
 "nbformat": 4,
 "nbformat_minor": 4
}
